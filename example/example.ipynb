{
 "cells": [
  {
   "cell_type": "code",
   "execution_count": 5,
   "id": "02eb29a6-3347-43a4-ab85-4fd923aab212",
   "metadata": {},
   "outputs": [],
   "source": [
    "from ipecharts.echarts import EChartsWidget, EChartsRawWidget\n",
    "import json\n",
    "import numpy"
   ]
  },
  {
   "cell_type": "markdown",
   "id": "490e18e9-5d5d-44b5-969b-2f583415422c",
   "metadata": {},
   "source": [
    "# Line chart"
   ]
  },
  {
   "cell_type": "code",
   "execution_count": 6,
   "id": "a768c8ab-ea1c-4fd5-b37e-e45a63d7e233",
   "metadata": {},
   "outputs": [],
   "source": [
    "from ipecharts.option import Option, XAxis, YAxis, Legend, Tooltip\n",
    "from ipecharts.option.series import Line\n",
    "from ipywidgets.widgets import Button"
   ]
  },
  {
   "cell_type": "code",
   "execution_count": 7,
   "id": "b18c1002-c4a2-4797-b06a-8b8b8bd69e6b",
   "metadata": {},
   "outputs": [],
   "source": [
    "line = Line(smooth=True, areaStyle={})\n",
    "\n",
    "option = Option(\n",
    "    xAxis=XAxis(type=\"category\"),\n",
    "    yAxis=YAxis(type=\"value\"),\n",
    "    series=[line],\n",
    "    tooltip=Tooltip(),\n",
    "    legend=Legend()\n",
    ")\n",
    "line.data = [1.,4.6,3.,6,4,7,9,3,9,3]"
   ]
  },
  {
   "cell_type": "code",
   "execution_count": 8,
   "id": "a6846c6e-8605-4e53-b654-a6dae3faf5e1",
   "metadata": {},
   "outputs": [],
   "source": [
    "button = Button(description=\"Generate random data\")\n",
    "\n",
    "def on_button_clicked(b):\n",
    "    data = numpy.random.rand(10).tolist()\n",
    "    line.data = data\n",
    "\n",
    "button.on_click(on_button_clicked)"
   ]
  },
  {
   "cell_type": "code",
   "execution_count": 9,
   "id": "622708d0-f609-4cd2-8869-fcec4dafdc98",
   "metadata": {},
   "outputs": [],
   "source": [
    "chart = EChartsWidget(option=option)"
   ]
  },
  {
   "cell_type": "code",
   "execution_count": 10,
   "id": "837dfb52-da9b-4e38-9c1a-6e48f997e823",
   "metadata": {},
   "outputs": [
    {
     "data": {
      "application/vnd.jupyter.widget-view+json": {
       "model_id": "fb8f13c677e845b0abbe3a0b63d29c56",
       "version_major": 2,
       "version_minor": 0
      },
      "text/plain": [
       "Button(description='Generate random data', style=ButtonStyle())"
      ]
     },
     "metadata": {},
     "output_type": "display_data"
    },
    {
     "data": {
      "application/vnd.jupyter.widget-view+json": {
       "model_id": "a8022244264c495ba62516de1bd8ede1",
       "version_major": 2,
       "version_minor": 0
      },
      "text/plain": [
       "EChartsWidget(option=Option(angleAxis=None, aria=None, axisPointer=None, brush=None, calendar=None, dataset=No…"
      ]
     },
     "metadata": {},
     "output_type": "display_data"
    }
   ],
   "source": [
    "display(button, chart)"
   ]
  },
  {
   "cell_type": "markdown",
   "id": "860acbe5-8fd1-4e2b-b029-a67fe61984f9",
   "metadata": {},
   "source": [
    "# Raw widget"
   ]
  },
  {
   "cell_type": "code",
   "execution_count": 202,
   "id": "d3dd58c7-3a8f-4886-a8fc-32546bb36a1b",
   "metadata": {},
   "outputs": [],
   "source": [
    "with open('option.json', 'r') as f:\n",
    "    option = json.load(f)"
   ]
  },
  {
   "cell_type": "code",
   "execution_count": 203,
   "id": "392c0ba7-28ff-4fe7-a4a5-8a95fef937c9",
   "metadata": {},
   "outputs": [
    {
     "data": {
      "application/vnd.jupyter.widget-view+json": {
       "model_id": "91f620812cdf4f6d87fe0c7596c4792b",
       "version_major": 2,
       "version_minor": 0
      },
      "text/plain": [
       "EChartsRawWidget(option={'color': ['#80FFA5', '#00DDFF', '#37A2FF', '#FF0087', '#FFBF00'], 'title': {'text': '…"
      ]
     },
     "execution_count": 203,
     "metadata": {},
     "output_type": "execute_result"
    }
   ],
   "source": [
    "EChartsRawWidget(option=option)"
   ]
  },
  {
   "cell_type": "markdown",
   "id": "082d30fa-47d8-48a8-a4fd-1c2f24e9adce",
   "metadata": {},
   "source": [
    "# [Circular graph example](https://echarts.apache.org/examples/en/editor.html?c=graph-circular-layout)"
   ]
  },
  {
   "cell_type": "code",
   "execution_count": 204,
   "id": "e5e37aee-6c6a-4b63-b718-d535d900a9f3",
   "metadata": {},
   "outputs": [],
   "source": [
    "from ipecharts.option import Option, Title, Legend, Tooltip\n",
    "from ipecharts.option.series import Graph"
   ]
  },
  {
   "cell_type": "code",
   "execution_count": 205,
   "id": "31280a3f-deb3-4e11-a2af-c745bf516a4a",
   "metadata": {},
   "outputs": [],
   "source": [
    "with open('les-miserables.json', 'r') as f:\n",
    "    graph = json.load(f)\n",
    "for node in graph['nodes']:\n",
    "    if node['symbolSize'] > 30:\n",
    "        node['label'] = {'show': True}"
   ]
  },
  {
   "cell_type": "code",
   "execution_count": 206,
   "id": "353a1e64-adaa-461e-a35b-813bf7e51213",
   "metadata": {},
   "outputs": [],
   "source": [
    "title = Title(\n",
    "    text=\"Les Miserables\", subtext=\"Circular layout\", top=\"bottom\", left=\"right\"\n",
    ")"
   ]
  },
  {
   "cell_type": "code",
   "execution_count": 207,
   "id": "3cc26197-5bc6-4587-ad88-fe584ee17538",
   "metadata": {},
   "outputs": [],
   "source": [
    "g = Graph(\n",
    "    name=\"Les Miserables\",\n",
    "    layout=\"circular\",\n",
    "    circular={\"rotateLabel\": True},\n",
    "    roam=True,\n",
    "    label={\"position\": \"right\", \"formatter\": \"{b}\"},\n",
    "    lineStyle={\"color\": \"source\", \"curveness\": 0.3},\n",
    ")"
   ]
  },
  {
   "cell_type": "code",
   "execution_count": 208,
   "id": "1b4238ad-c750-4518-849a-67ba6100fc1f",
   "metadata": {},
   "outputs": [],
   "source": [
    "g.data = graph['nodes']\n",
    "g.links = graph['links']\n",
    "g.categories = graph['categories']"
   ]
  },
  {
   "cell_type": "code",
   "execution_count": 209,
   "id": "f12678ad-bc96-40bd-9c11-387511944110",
   "metadata": {},
   "outputs": [],
   "source": [
    "option = Option(\n",
    "    series=[g],\n",
    "    title=title,\n",
    "    tooltip=Tooltip(),\n",
    "    legend=Legend(),\n",
    "    animationDurationUpdate=1500,\n",
    "    animationEasingUpdate=\"quinticInOut\",\n",
    ")"
   ]
  },
  {
   "cell_type": "code",
   "execution_count": 210,
   "id": "28286d2b-c7a7-4856-aa67-d03240dfc2bf",
   "metadata": {},
   "outputs": [
    {
     "data": {
      "application/vnd.jupyter.widget-view+json": {
       "model_id": "7b69c6fa49e543f6bbb31078f2684bc8",
       "version_major": 2,
       "version_minor": 0
      },
      "text/plain": [
       "EChartsWidget(option=Option(angleAxis=None, animationDurationUpdate=1500.0, animationEasingUpdate='quinticInOu…"
      ]
     },
     "execution_count": 210,
     "metadata": {},
     "output_type": "execute_result"
    }
   ],
   "source": [
    "EChartsWidget(option=option)"
   ]
  },
  {
   "cell_type": "markdown",
   "id": "aeb77fb4-76ad-48e4-975b-51534c44277b",
   "metadata": {},
   "source": [
    "# 3D Bar Chart\n",
    "\n",
    "## Raw widget from option dict"
   ]
  },
  {
   "cell_type": "code",
   "execution_count": 211,
   "id": "2c9e925c-8395-4b1f-a12d-8a8cf2f22a32",
   "metadata": {},
   "outputs": [],
   "source": [
    "with open('life-expectancy-table.json', 'r') as f:\n",
    "    data = json.load(f)"
   ]
  },
  {
   "cell_type": "code",
   "execution_count": 212,
   "id": "5b023a5a-a005-4051-a635-3540bfbf328a",
   "metadata": {},
   "outputs": [],
   "source": [
    "option = {\n",
    "    \"grid3D\": {},\n",
    "    \"tooltip\": {},\n",
    "    \"xAxis3D\": {\"type\": \"category\"},\n",
    "    \"yAxis3D\": {\"type\": \"category\"},\n",
    "    \"zAxis3D\": {},\n",
    "    \"dataset\": {\n",
    "        \"dimensions\": [\n",
    "            \"Income\",\n",
    "            \"Life Expectancy\",\n",
    "            \"Population\",\n",
    "            \"Country\",\n",
    "            {\"name\": \"Year\", \"type\": \"ordinal\"},\n",
    "        ],\n",
    "        \"source\": data,\n",
    "    },\n",
    "    \"series\": [\n",
    "        {\n",
    "            \"type\": \"bar3D\",\n",
    "            \"shading\": \"lambert\",\n",
    "            \"encode\": {\n",
    "                \"x\": \"Year\",\n",
    "                \"y\": \"Country\",\n",
    "                \"z\": \"Life Expectancy\",\n",
    "                \"tooltip\": [0, 1, 2, 3, 4],\n",
    "            },\n",
    "        }\n",
    "    ],\n",
    "}\n"
   ]
  },
  {
   "cell_type": "code",
   "execution_count": 213,
   "id": "94efa5d1-bcb4-4f1d-974e-a91ee65292bb",
   "metadata": {},
   "outputs": [
    {
     "data": {
      "application/vnd.jupyter.widget-view+json": {
       "model_id": "8f720c452f344440b986478109fbd390",
       "version_major": 2,
       "version_minor": 0
      },
      "text/plain": [
       "EChartsRawWidget(option={'grid3D': {}, 'tooltip': {}, 'xAxis3D': {'type': 'category'}, 'yAxis3D': {'type': 'ca…"
      ]
     },
     "execution_count": 213,
     "metadata": {},
     "output_type": "execute_result"
    }
   ],
   "source": [
    "EChartsRawWidget(option=option)"
   ]
  },
  {
   "cell_type": "markdown",
   "id": "e55e3191-ed8a-4d82-985e-213340ed252e",
   "metadata": {},
   "source": [
    "## Widget chart"
   ]
  },
  {
   "cell_type": "code",
   "execution_count": 214,
   "id": "7c411347-1393-4de4-875e-6ad8a595f57e",
   "metadata": {},
   "outputs": [],
   "source": [
    "from ipecharts.option import Grid3D, Tooltip, XAxis3D, YAxis3D, ZAxis3D, Dataset, Option\n",
    "from ipecharts.option.series import Bar3D"
   ]
  },
  {
   "cell_type": "code",
   "execution_count": 215,
   "id": "1f1066ca-97b2-4dd6-8a0c-1eb17a783d56",
   "metadata": {},
   "outputs": [],
   "source": [
    "dataset = Dataset(\n",
    "    dimensions=[\n",
    "        \"Income\",\n",
    "        \"Life Expectancy\",\n",
    "        \"Population\",\n",
    "        \"Country\",\n",
    "        {\"name\": \"Year\", \"type\": \"ordinal\"},\n",
    "    ],\n",
    "    source=data,\n",
    ")"
   ]
  },
  {
   "cell_type": "code",
   "execution_count": 216,
   "id": "a57838b0-ff68-4fb4-90cc-7ce15bfe9651",
   "metadata": {},
   "outputs": [],
   "source": [
    "bar3D = Bar3D(\n",
    "    shading=\"lambert\",\n",
    "    encode={\n",
    "        \"x\": \"Year\",\n",
    "        \"y\": \"Country\",\n",
    "        \"z\": \"Life Expectancy\",\n",
    "        \"tooltip\": [0, 1, 2, 3, 4],\n",
    "    },\n",
    ")"
   ]
  },
  {
   "cell_type": "code",
   "execution_count": 217,
   "id": "51d09de6-fd0b-4fed-9896-685616dfe044",
   "metadata": {},
   "outputs": [],
   "source": [
    "option = Option(\n",
    "    grid3D=Grid3D(),\n",
    "    tooltip=Tooltip(),\n",
    "    xAxis3D=XAxis3D(type=\"category\"),\n",
    "    yAxis3D= YAxis3D(type=\"category\"),\n",
    "    zAxis3D=ZAxis3D(),\n",
    "    dataset=dataset,\n",
    "    series=[bar3D],\n",
    ")\n"
   ]
  },
  {
   "cell_type": "code",
   "execution_count": 219,
   "id": "dde55ea3-ed30-4db7-88c3-a9b1bc7d853c",
   "metadata": {},
   "outputs": [
    {
     "data": {
      "application/vnd.jupyter.widget-view+json": {
       "model_id": "54f95f8ae3164c82a06db993acf8ca7c",
       "version_major": 2,
       "version_minor": 0
      },
      "text/plain": [
       "EChartsWidget(option=Option(angleAxis=None, aria=None, axisPointer=None, brush=None, calendar=None, dataset=Da…"
      ]
     },
     "execution_count": 219,
     "metadata": {},
     "output_type": "execute_result"
    }
   ],
   "source": [
    "EChartsWidget(option=option)"
   ]
  },
  {
   "cell_type": "code",
   "execution_count": null,
   "id": "9b3f41ef-e283-4d2b-b490-5cfe79457d90",
   "metadata": {},
   "outputs": [],
   "source": []
  },
  {
   "cell_type": "code",
   "execution_count": null,
   "id": "d32a9541-f6cc-4ca0-8593-5da2e7b42030",
   "metadata": {},
   "outputs": [],
   "source": []
  }
 ],
 "metadata": {
  "kernelspec": {
   "display_name": "Python 3 (ipykernel)",
   "language": "python",
   "name": "python3"
  },
  "language_info": {
   "codemirror_mode": {
    "name": "ipython",
    "version": 3
   },
   "file_extension": ".py",
   "mimetype": "text/x-python",
   "name": "python",
   "nbconvert_exporter": "python",
   "pygments_lexer": "ipython3",
   "version": "3.10.15"
  }
 },
 "nbformat": 4,
 "nbformat_minor": 5
}
